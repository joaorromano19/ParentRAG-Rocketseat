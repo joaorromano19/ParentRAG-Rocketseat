{
 "cells": [
  {
   "cell_type": "code",
   "execution_count": null,
   "id": "467cc167",
   "metadata": {},
   "outputs": [],
   "source": [
    "from langchain_text_splitters import RecursiveCharacterTextSplitter\n",
    "from langchain_openai import ChatOpenAI\n",
    "from langchain_community.vectorstores import Chroma\n",
    "from langchain_community.document_loaders import PyPDFLoader\n",
    "from langchain.retrievers import ParentDocumentRetriever\n",
    "from langchain.storage import InMemoryStore\n",
    "from langchain.embeddings import OpenAIEmbeddings\n",
    "from langchain_core.prompts import ChatPromptTemplate\n",
    "from langchain_core.runnables import RunnableParallel, RunnablePassthrough\n",
    "from langchain_core.output_parsers import StrOutputParser"
   ]
  },
  {
   "cell_type": "code",
   "execution_count": null,
   "id": "0a3c1857",
   "metadata": {},
   "outputs": [],
   "source": [
    "import os\n",
    "os.environ['OPENAI_API_KEY'] = \"Sua chave API\""
   ]
  },
  {
   "cell_type": "code",
   "execution_count": null,
   "id": "810d11f5",
   "metadata": {},
   "outputs": [],
   "source": [
    "embeddings = OpenAIEmbeddings(model = \"text-embeddings-3-small\")\n",
    "llm = ChatOpenAI(model_name = \"gpt-3.5-turbo\", max_tokens = 500)"
   ]
  },
  {
   "cell_type": "code",
   "execution_count": null,
   "id": "7b8a54df",
   "metadata": {},
   "outputs": [],
   "source": [
    "# Carregando o PDF\n",
    "\n",
    "pdf_link = \"Seu PDF\"\n",
    "loader = PyPDFLoader(pdf_link, extract_images=False)\n",
    "pages = loader.load_and_split()"
   ]
  },
  {
   "cell_type": "code",
   "execution_count": null,
   "id": "b5ad7de1",
   "metadata": {},
   "outputs": [],
   "source": [
    "len(pages)"
   ]
  },
  {
   "cell_type": "code",
   "execution_count": null,
   "id": "2a2088a1",
   "metadata": {},
   "outputs": [],
   "source": [
    "# Spltter\n",
    "\n",
    "child_splitter = RecursiveCharacterTextSplitter(chunk_size = 200)\n",
    "parent_splitter = RecursiveCharacterTextSplitter(\n",
    "    chunk_size = 4000,\n",
    "    chunk_overlap = 200,\n",
    "    length_function = len,\n",
    "    add_start_index = True\n",
    ")"
   ]
  },
  {
   "cell_type": "code",
   "execution_count": null,
   "id": "847f8a5a",
   "metadata": {},
   "outputs": [],
   "source": [
    "# Storage\n",
    "\n",
    "store = InMemoryStore()\n",
    "vectorstore = Chroma(embedding_function = embeddings, persist_directory = \"childVectorDB\")"
   ]
  },
  {
   "cell_type": "code",
   "execution_count": null,
   "id": "aadf190b",
   "metadata": {},
   "outputs": [],
   "source": [
    "parent_document_retriever = ParentDocumentRetriever(\n",
    "    vectorstore = vectorstore,\n",
    "    docstore = store,\n",
    "    child_splitter = child_splitter,\n",
    "    parent_splitter = parent_splitter\n",
    ")\n",
    "\n",
    "parent_document_retriever.add_documents(pages, ids = None)"
   ]
  },
  {
   "cell_type": "code",
   "execution_count": null,
   "id": "5371cbf1",
   "metadata": {},
   "outputs": [],
   "source": [
    "# Mostra o \"child_spltter\" porque ele que está dentro do \"vectorstore\"\n",
    "parent_document_retriever.vectorstore.get()"
   ]
  },
  {
   "cell_type": "code",
   "execution_count": null,
   "id": "4ef9cbc6",
   "metadata": {},
   "outputs": [],
   "source": [
    "# Criando um template de prompt\n",
    "\n",
    "TEMPLATE = \"\"\"\n",
    "    Escreva o seu template\n",
    "    Querry:\n",
    "    {question}\n",
    "\n",
    "    Context:\n",
    "    {context}\n",
    "\"\"\"\n",
    "\n",
    "reg_prompt = ChatPromptTemplate.from_template(TEMPLATE)"
   ]
  },
  {
   "cell_type": "code",
   "execution_count": null,
   "id": "7d14bfb4",
   "metadata": {},
   "outputs": [],
   "source": [
    "setup_retrival = RunnableParallel(\n",
    "    {\"question\": RunnablePassthrough, \"context\": parent_document_retriever}\n",
    ")\n",
    "\n",
    "output_parser = StrOutputParser()"
   ]
  },
  {
   "cell_type": "code",
   "execution_count": null,
   "id": "eeb09a08",
   "metadata": {},
   "outputs": [],
   "source": [
    "parent_chain_retrival = setup_retrival | reg_prompt | llm | output_parser"
   ]
  },
  {
   "cell_type": "code",
   "execution_count": null,
   "id": "5777fad3",
   "metadata": {},
   "outputs": [],
   "source": [
    "parent_chain_retrival.invoke(\"Escreva sua pergunta aqui\")"
   ]
  }
 ],
 "metadata": {
  "kernelspec": {
   "display_name": "venv (3.13.7)",
   "language": "python",
   "name": "python3"
  },
  "language_info": {
   "codemirror_mode": {
    "name": "ipython",
    "version": 3
   },
   "file_extension": ".py",
   "mimetype": "text/x-python",
   "name": "python",
   "nbconvert_exporter": "python",
   "pygments_lexer": "ipython3",
   "version": "3.13.7"
  }
 },
 "nbformat": 4,
 "nbformat_minor": 5
}
